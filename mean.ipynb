{
 "cells": [
  {
   "cell_type": "code",
   "execution_count": 1,
   "metadata": {},
   "outputs": [
    {
     "name": "stdout",
     "output_type": "stream",
     "text": [
      "Mean: 118.43636363636365\n",
      "Median: 115.3\n",
      "Mode: 90.4\n",
      "Standard Deviation: 28.07555067054866\n",
      "Variance: 788.2365454545454\n",
      "Min-Max Scaling: [0.0, 0.0, 0.14462416745956222, 0.18839200761179828, 0.1950523311132255, 0.23691722169362506, 0.24643196955280677, 0.2863939105613701, 0.3035204567078972, 0.3330161750713606, 1.0]\n",
      "Standardization (Z-score): [-0.9986042291869942, -0.9986042291869942, -0.457207902597937, -0.29336427744598503, -0.2684315518793836, -0.11171156260360404, -0.07609338322274499, 0.07350297017686315, 0.13761569306240934, 0.24803204914307272, 2.7448664237412923]\n"
     ]
    }
   ],
   "source": [
    "import statistics as st\n",
    "\n",
    "x = [115.3, 195.5, 120.5, 110.2, 90.4, 105.6, 110.9, 116.3, 122.3, 125.4, 90.4]\n",
    "\n",
    "sum_x = sum(x)\n",
    "mean = sum_x / len(x)\n",
    "\n",
    "x.sort()\n",
    "\n",
    "if len(x) % 2 == 0:\n",
    "    a = x[len(x)//2]\n",
    "    b = x[(len(x)//2) - 1]\n",
    "    median = (a + b) / 2\n",
    "else:\n",
    "    median = x[len(x)//2]\n",
    "\n",
    "frequency_dict = {}\n",
    "for i in x:\n",
    "    if i in frequency_dict:\n",
    "        frequency_dict[i] += 1\n",
    "    else:\n",
    "        frequency_dict[i] = 1\n",
    "\n",
    "mx = 0\n",
    "mode = 0\n",
    "for key, value in frequency_dict.items():\n",
    "    if value >= mx:\n",
    "        mx = value\n",
    "        mode = key\n",
    "\n",
    "var = sum((i - mean)**2 for i in x) / (len(x) - 1)\n",
    "\n",
    "std = var**0.5\n",
    "\n",
    "xm = min(x)\n",
    "xmax = max(x)\n",
    "\n",
    "MMS = [(i - xm) / (xmax - xm) for i in x]\n",
    "\n",
    "SS = [(i - mean) / std for i in x]\n",
    "\n",
    "print(\"Mean:\", mean)\n",
    "print(\"Median:\", median)\n",
    "print(\"Mode:\", mode)\n",
    "print(\"Standard Deviation:\", std)\n",
    "print(\"Variance:\", var)\n",
    "print(\"Min-Max Scaling:\", MMS)\n",
    "print(\"Standardization (Z-score):\", SS)"
   ]
  }
 ],
 "metadata": {
  "kernelspec": {
   "display_name": "Python 3",
   "language": "python",
   "name": "python3"
  },
  "language_info": {
   "codemirror_mode": {
    "name": "ipython",
    "version": 3
   },
   "file_extension": ".py",
   "mimetype": "text/x-python",
   "name": "python",
   "nbconvert_exporter": "python",
   "pygments_lexer": "ipython3",
   "version": "3.11.7"
  }
 },
 "nbformat": 4,
 "nbformat_minor": 2
}

{
 "cells": [
  {
   "cell_type": "code",
   "execution_count": 2,
   "id": "80e443ff",
   "metadata": {},
   "outputs": [
    {
     "name": "stdout",
     "output_type": "stream",
     "text": [
      "Decision Tree Classifier Performance:\n",
      "Accuracy: 0.9\n",
      "Classification Report:\n",
      "                      precision    recall  f1-score   support\n",
      "\n",
      "               AIDS       1.00      1.00      1.00         2\n",
      "            Allergy       1.00      1.00      1.00         3\n",
      "   Bronchial Asthma       0.50      1.00      0.67         2\n",
      "Chronic cholestasis       1.00      1.00      1.00         1\n",
      "          Diabetes        0.00      0.00      0.00         2\n",
      "      Drug Reaction       1.00      1.00      1.00         4\n",
      "   Fungal infection       1.00      1.00      1.00         2\n",
      "               GERD       1.00      1.00      1.00         2\n",
      "    Gastroenteritis       1.00      1.00      1.00         2\n",
      "\n",
      "           accuracy                           0.90        20\n",
      "          macro avg       0.83      0.89      0.85        20\n",
      "       weighted avg       0.85      0.90      0.87        20\n",
      "\n",
      "\n",
      "Random Forest Classifier Performance:\n",
      "Accuracy: 0.9\n",
      "Classification Report:\n",
      "                      precision    recall  f1-score   support\n",
      "\n",
      "               AIDS       1.00      1.00      1.00         2\n",
      "            Allergy       1.00      1.00      1.00         3\n",
      "   Bronchial Asthma       0.50      1.00      0.67         2\n",
      "Chronic cholestasis       1.00      1.00      1.00         1\n",
      "          Diabetes        0.00      0.00      0.00         2\n",
      "      Drug Reaction       1.00      1.00      1.00         4\n",
      "   Fungal infection       1.00      1.00      1.00         2\n",
      "               GERD       1.00      1.00      1.00         2\n",
      "    Gastroenteritis       1.00      1.00      1.00         2\n",
      "\n",
      "           accuracy                           0.90        20\n",
      "          macro avg       0.83      0.89      0.85        20\n",
      "       weighted avg       0.85      0.90      0.87        20\n",
      "\n"
     ]
    },
    {
     "name": "stderr",
     "output_type": "stream",
     "text": [
      "C:\\Users\\Vedant Shah\\AppData\\Local\\Packages\\PythonSoftwareFoundation.Python.3.11_qbz5n2kfra8p0\\LocalCache\\local-packages\\Python311\\site-packages\\sklearn\\metrics\\_classification.py:1471: UndefinedMetricWarning: Precision and F-score are ill-defined and being set to 0.0 in labels with no predicted samples. Use `zero_division` parameter to control this behavior.\n",
      "  _warn_prf(average, modifier, msg_start, len(result))\n",
      "C:\\Users\\Vedant Shah\\AppData\\Local\\Packages\\PythonSoftwareFoundation.Python.3.11_qbz5n2kfra8p0\\LocalCache\\local-packages\\Python311\\site-packages\\sklearn\\metrics\\_classification.py:1471: UndefinedMetricWarning: Precision and F-score are ill-defined and being set to 0.0 in labels with no predicted samples. Use `zero_division` parameter to control this behavior.\n",
      "  _warn_prf(average, modifier, msg_start, len(result))\n",
      "C:\\Users\\Vedant Shah\\AppData\\Local\\Packages\\PythonSoftwareFoundation.Python.3.11_qbz5n2kfra8p0\\LocalCache\\local-packages\\Python311\\site-packages\\sklearn\\metrics\\_classification.py:1471: UndefinedMetricWarning: Precision and F-score are ill-defined and being set to 0.0 in labels with no predicted samples. Use `zero_division` parameter to control this behavior.\n",
      "  _warn_prf(average, modifier, msg_start, len(result))\n",
      "C:\\Users\\Vedant Shah\\AppData\\Local\\Packages\\PythonSoftwareFoundation.Python.3.11_qbz5n2kfra8p0\\LocalCache\\local-packages\\Python311\\site-packages\\sklearn\\metrics\\_classification.py:1471: UndefinedMetricWarning: Precision and F-score are ill-defined and being set to 0.0 in labels with no predicted samples. Use `zero_division` parameter to control this behavior.\n",
      "  _warn_prf(average, modifier, msg_start, len(result))\n",
      "C:\\Users\\Vedant Shah\\AppData\\Local\\Packages\\PythonSoftwareFoundation.Python.3.11_qbz5n2kfra8p0\\LocalCache\\local-packages\\Python311\\site-packages\\sklearn\\metrics\\_classification.py:1471: UndefinedMetricWarning: Precision and F-score are ill-defined and being set to 0.0 in labels with no predicted samples. Use `zero_division` parameter to control this behavior.\n",
      "  _warn_prf(average, modifier, msg_start, len(result))\n",
      "C:\\Users\\Vedant Shah\\AppData\\Local\\Packages\\PythonSoftwareFoundation.Python.3.11_qbz5n2kfra8p0\\LocalCache\\local-packages\\Python311\\site-packages\\sklearn\\metrics\\_classification.py:1471: UndefinedMetricWarning: Precision and F-score are ill-defined and being set to 0.0 in labels with no predicted samples. Use `zero_division` parameter to control this behavior.\n",
      "  _warn_prf(average, modifier, msg_start, len(result))\n"
     ]
    }
   ],
   "source": [
    "from sklearn.model_selection import train_test_split\n",
    "from sklearn.ensemble import RandomForestClassifier\n",
    "from sklearn.tree import DecisionTreeClassifier\n",
    "from sklearn.metrics import accuracy_score, classification_report\n",
    "import pandas as pd\n",
    "\n",
    "dataset = pd.read_csv(\"dataset.csv\")\n",
    "dataset.dropna()\n",
    "\n",
    "dataset = pd.get_dummies(dataset, columns = ['Symptom_1', 'Symptom_2', 'Symptom_3'])\n",
    "\n",
    "X = dataset.drop('Disease',axis=1)\n",
    "y = dataset[\"Disease\"]\n",
    "\n",
    "X_train, X_test, y_train, y_test = train_test_split(X, y, test_size=0.2, random_state=42)\n",
    "\n",
    "dt_classifier = DecisionTreeClassifier(random_state=42)\n",
    "dt_classifier.fit(X_train, y_train)\n",
    "\n",
    "dt_predictions = dt_classifier.predict(X_test)\n",
    "\n",
    "print(\"Decision Tree Classifier Performance:\")\n",
    "print(\"Accuracy:\", accuracy_score(y_test, dt_predictions))\n",
    "print(\"Classification Report:\\n\", classification_report(y_test, dt_predictions))\n",
    "\n",
    "rf_classifier = RandomForestClassifier(random_state=42)\n",
    "rf_classifier.fit(X_train, y_train)\n",
    "\n",
    "rf_predictions = rf_classifier.predict(X_test)\n",
    "\n",
    "print(\"\\nRandom Forest Classifier Performance:\")\n",
    "print(\"Accuracy:\", accuracy_score(y_test, rf_predictions))\n",
    "print(\"Classification Report:\\n\", classification_report(y_test, rf_predictions))"
   ]
  },
  {
   "cell_type": "code",
   "execution_count": null,
   "id": "31a9d2de",
   "metadata": {},
   "outputs": [],
   "source": []
  }
 ],
 "metadata": {
  "kernelspec": {
   "display_name": "Python 3 (ipykernel)",
   "language": "python",
   "name": "python3"
  },
  "language_info": {
   "codemirror_mode": {
    "name": "ipython",
    "version": 3
   },
   "file_extension": ".py",
   "mimetype": "text/x-python",
   "name": "python",
   "nbconvert_exporter": "python",
   "pygments_lexer": "ipython3",
   "version": "3.11.7"
  }
 },
 "nbformat": 4,
 "nbformat_minor": 5
}
